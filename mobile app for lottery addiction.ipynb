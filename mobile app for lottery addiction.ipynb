{
 "cells": [
  {
   "cell_type": "markdown",
   "metadata": {},
   "source": [
    "## Mobile App for Lottery Addiction\n",
    "\n",
    "In this project, we will contribute to the development of a mobile app that is meant to help lottery addicts better estimate their chances of winning.\n",
    "\n",
    "Many people start playing the lottery for fun, but for some this activity turns into a habit which eventually escalates into addiction. Like other compulsive gamblers, lottery addicts soon begin spending from their savings and loans, they start to accumulate debts, and eventually engage in desperate behaviors like theft.\n",
    "\n",
    "A medical institute that aims to prevent and treat gambling addictions wants to build a dedicated mobile app to help lottery addicts better estimate their chances of winning. The institute has a team of engineers that will build the app, but they need us to create the logical core of the app and calculate probabilities.\n",
    "\n",
    "For the first version of the app, they want us to focus on the [6/49](https://en.wikipedia.org/wiki/Lotto_6/49) lottery and build functions that enable users to answer questions like:\n",
    "   + What is the probability of winning the big prize with a single ticket?\n",
    "   + What is the probability of winning the big prize if we play 40 different tickets (or any other number)?\n",
    "   + What is the probability of having at least five (or four, or three, or two) winning numbers on a single ticket?\n",
    "\n",
    "The institute also wants us to consider historical data coming from the national 6/49 lottery game in Canada. [The data set](https://www.kaggle.com/datascienceai/lottery-dataset) has data for 3,665 drawings, dating from 1982 to 2018.\n",
    "\n",
    "The scenario we're following throughout this project is fictional — the main purpose is to practice applying the concepts we learned in a setting that simulates a real-world scenario."
   ]
  },
  {
   "cell_type": "markdown",
   "metadata": {},
   "source": [
    "## Core Functions\n",
    "\n",
    "Throughout the project, we'll need to calculate repeatedly probabilities and combinations. As a consequence, we'll start by writing two functions that we'll use often:\n",
    "   + A function that calculates factorials; and\n",
    "   + A function that calculates combinations.\n",
    "\n",
    "In the 6/49 lottery, six numbers are drawn from a set of 49 numbers that range from 1 to 49. The drawing is done without replacement, which means once a number is drawn, it's not put back in the set.\n",
    "\n",
    "Now let's start coding the two functions. \n",
    "\n",
    "We'll write a function named factorial() which takes as input a number n and computes the factorial of that number n. \n",
    "\n",
    "With function combinations(), it takes in two inputs (n and k), and outputs the number of combinations when we are taking only k objects from a group of n objects without replacement."
   ]
  },
  {
   "cell_type": "code",
   "execution_count": 1,
   "metadata": {
    "collapsed": true
   },
   "outputs": [],
   "source": [
    "def factorial(n):\n",
    "    result = 1\n",
    "    for i in range(n, 0, -1):\n",
    "        result *= i\n",
    "    return result\n",
    "def combinations(n, k):\n",
    "    result = factorial(n)/(factorial(k)*factorial(n-k))\n",
    "    return result   "
   ]
  },
  {
   "cell_type": "markdown",
   "metadata": {},
   "source": [
    "## One-ticket Probability\n",
    "\n",
    "Next we will focus on writing a function that calculates the probability of winning the big prize.\n",
    "\n",
    "In the 6/49 lottery, six numbers are drawn from a set of 49 numbers that range from 1 to 49. A player wins the big prize if the six numbers on their tickets match all the six numbers drawn. If a player has a ticket with the numbers {13, 22, 24, 27, 42, 44}, he only wins the big prize if the numbers drawn are {13, 22, 24, 27, 42, 44}. If only one number differs, he doesn't win.\n",
    "\n",
    "For the first version of the app, we want players to be able to calculate the probability of winning the big prize with the various numbers they play on a single ticket (for each ticket a player chooses six numbers out of 49). So, we'll start by building a function that calculates the probability of winning the big prize for any given ticket.\n",
    "\n",
    "We discussed with the engineering team of the medical institute, and they told us we need to be aware of the following details when we write the function:\n",
    "   + Inside the app, the user inputs six different numbers from 1 to 49.\n",
    "   + Under the hood, the six numbers will come as a Python list, which will serve as the single input to our function.\n",
    "   + The engineering team wants the function to print the probability value in a friendly way — in a way that people without any probability training are able to understand.\n",
    "\n",
    "Now we will write a function named one_ticket_probability(), which takes in a list of six unique numbers and prints the probability of winning in a way that's easy to understand. \n",
    "\n",
    "We will start by calculating the total number of possible outcomes — this is total number of combinations for a six-number lottery ticket. There are 49 possible numbers, and six numbers are sampled without replacement. \n",
    "\n",
    "The user inputs just one combination, which means the number of successful outcomes is 1.\n",
    "\n",
    "Use the number of successful outcomes and the total number of possible outcomes to calculate the probability for one ticket.\n",
    "\n",
    "Let's try to write this function!"
   ]
  },
  {
   "cell_type": "code",
   "execution_count": 2,
   "metadata": {
    "collapsed": true
   },
   "outputs": [],
   "source": [
    "def one_ticket_probability(l):\n",
    "    result = (1/combinations(49, 6)) * 100\n",
    "    print(\"Your chance of winning the big prize for the numbers {} is: {:.7f}%\".format(l, result))"
   ]
  },
  {
   "cell_type": "code",
   "execution_count": 3,
   "metadata": {
    "collapsed": false
   },
   "outputs": [
    {
     "name": "stdout",
     "output_type": "stream",
     "text": [
      "Your chance of winning the big prize for the numbers [1, 2, 3, 4, 5, 6] is: 0.0000072%\n",
      "Your chance of winning the big prize for the numbers [13, 21, 43, 7, 19, 2] is: 0.0000072%\n"
     ]
    }
   ],
   "source": [
    "#Test the function with a few inputs.\n",
    "one_ticket_probability([1, 2, 3, 4, 5, 6])\n",
    "one_ticket_probability([13, 21, 43, 7, 19, 2])"
   ]
  },
  {
   "cell_type": "markdown",
   "metadata": {},
   "source": [
    "## Historical Data Check for Canada Lottery\n",
    "\n",
    "Previouly, we wrote a function that can tell users what is the porbability of winning the big prize with a single ticket. For the first version of the app, however, users should also be able to compare their ticket against the historical lottery data in Canada and determine whether they would have ever won by now. \n",
    "\n",
    "In this step, we'll focus on exploring the historical data coming from the Canada 6/49 lottery. The data set can be downloaded from [Kaggle](https://www.kaggle.com/datascienceai/lottery-dataset).\n",
    "\n",
    "The data set contains historical data for 3,665 drawings (each row shows data for a single drawing), dating from 1982 to 2018. For each drawing, we can find the six numbers drawn in the following six columns:\n",
    "   + NUMBER DRAWN 1\n",
    "   + NUMBER DRAWN 2\n",
    "   + NUMBER DRAWN 3\n",
    "   + NUMBER DRAWN 4\n",
    "   + NUMBER DRAWN 5\n",
    "   + NUMBER DRAWN 6\n",
    "\n",
    "Let's now open this data set and get familiar with its structure."
   ]
  },
  {
   "cell_type": "code",
   "execution_count": 4,
   "metadata": {
    "collapsed": false
   },
   "outputs": [
    {
     "data": {
      "text/plain": [
       "(3665, 11)"
      ]
     },
     "execution_count": 4,
     "metadata": {},
     "output_type": "execute_result"
    }
   ],
   "source": [
    "import pandas as pd\n",
    "lottery_c = pd.read_csv(\"649.csv\")\n",
    "lottery_c.shape"
   ]
  },
  {
   "cell_type": "code",
   "execution_count": 5,
   "metadata": {
    "collapsed": false
   },
   "outputs": [
    {
     "data": {
      "text/html": [
       "<div>\n",
       "<style scoped>\n",
       "    .dataframe tbody tr th:only-of-type {\n",
       "        vertical-align: middle;\n",
       "    }\n",
       "\n",
       "    .dataframe tbody tr th {\n",
       "        vertical-align: top;\n",
       "    }\n",
       "\n",
       "    .dataframe thead th {\n",
       "        text-align: right;\n",
       "    }\n",
       "</style>\n",
       "<table border=\"1\" class=\"dataframe\">\n",
       "  <thead>\n",
       "    <tr style=\"text-align: right;\">\n",
       "      <th></th>\n",
       "      <th>PRODUCT</th>\n",
       "      <th>DRAW NUMBER</th>\n",
       "      <th>SEQUENCE NUMBER</th>\n",
       "      <th>DRAW DATE</th>\n",
       "      <th>NUMBER DRAWN 1</th>\n",
       "      <th>NUMBER DRAWN 2</th>\n",
       "      <th>NUMBER DRAWN 3</th>\n",
       "      <th>NUMBER DRAWN 4</th>\n",
       "      <th>NUMBER DRAWN 5</th>\n",
       "      <th>NUMBER DRAWN 6</th>\n",
       "      <th>BONUS NUMBER</th>\n",
       "    </tr>\n",
       "  </thead>\n",
       "  <tbody>\n",
       "    <tr>\n",
       "      <th>0</th>\n",
       "      <td>649</td>\n",
       "      <td>1</td>\n",
       "      <td>0</td>\n",
       "      <td>6/12/1982</td>\n",
       "      <td>3</td>\n",
       "      <td>11</td>\n",
       "      <td>12</td>\n",
       "      <td>14</td>\n",
       "      <td>41</td>\n",
       "      <td>43</td>\n",
       "      <td>13</td>\n",
       "    </tr>\n",
       "    <tr>\n",
       "      <th>1</th>\n",
       "      <td>649</td>\n",
       "      <td>2</td>\n",
       "      <td>0</td>\n",
       "      <td>6/19/1982</td>\n",
       "      <td>8</td>\n",
       "      <td>33</td>\n",
       "      <td>36</td>\n",
       "      <td>37</td>\n",
       "      <td>39</td>\n",
       "      <td>41</td>\n",
       "      <td>9</td>\n",
       "    </tr>\n",
       "    <tr>\n",
       "      <th>2</th>\n",
       "      <td>649</td>\n",
       "      <td>3</td>\n",
       "      <td>0</td>\n",
       "      <td>6/26/1982</td>\n",
       "      <td>1</td>\n",
       "      <td>6</td>\n",
       "      <td>23</td>\n",
       "      <td>24</td>\n",
       "      <td>27</td>\n",
       "      <td>39</td>\n",
       "      <td>34</td>\n",
       "    </tr>\n",
       "  </tbody>\n",
       "</table>\n",
       "</div>"
      ],
      "text/plain": [
       "   PRODUCT  DRAW NUMBER  SEQUENCE NUMBER  DRAW DATE  NUMBER DRAWN 1  \\\n",
       "0      649            1                0  6/12/1982               3   \n",
       "1      649            2                0  6/19/1982               8   \n",
       "2      649            3                0  6/26/1982               1   \n",
       "\n",
       "   NUMBER DRAWN 2  NUMBER DRAWN 3  NUMBER DRAWN 4  NUMBER DRAWN 5  \\\n",
       "0              11              12              14              41   \n",
       "1              33              36              37              39   \n",
       "2               6              23              24              27   \n",
       "\n",
       "   NUMBER DRAWN 6  BONUS NUMBER  \n",
       "0              43            13  \n",
       "1              41             9  \n",
       "2              39            34  "
      ]
     },
     "execution_count": 5,
     "metadata": {},
     "output_type": "execute_result"
    }
   ],
   "source": [
    "lottery_c.head(3)"
   ]
  },
  {
   "cell_type": "code",
   "execution_count": 6,
   "metadata": {
    "collapsed": false
   },
   "outputs": [
    {
     "data": {
      "text/html": [
       "<div>\n",
       "<style scoped>\n",
       "    .dataframe tbody tr th:only-of-type {\n",
       "        vertical-align: middle;\n",
       "    }\n",
       "\n",
       "    .dataframe tbody tr th {\n",
       "        vertical-align: top;\n",
       "    }\n",
       "\n",
       "    .dataframe thead th {\n",
       "        text-align: right;\n",
       "    }\n",
       "</style>\n",
       "<table border=\"1\" class=\"dataframe\">\n",
       "  <thead>\n",
       "    <tr style=\"text-align: right;\">\n",
       "      <th></th>\n",
       "      <th>PRODUCT</th>\n",
       "      <th>DRAW NUMBER</th>\n",
       "      <th>SEQUENCE NUMBER</th>\n",
       "      <th>DRAW DATE</th>\n",
       "      <th>NUMBER DRAWN 1</th>\n",
       "      <th>NUMBER DRAWN 2</th>\n",
       "      <th>NUMBER DRAWN 3</th>\n",
       "      <th>NUMBER DRAWN 4</th>\n",
       "      <th>NUMBER DRAWN 5</th>\n",
       "      <th>NUMBER DRAWN 6</th>\n",
       "      <th>BONUS NUMBER</th>\n",
       "    </tr>\n",
       "  </thead>\n",
       "  <tbody>\n",
       "    <tr>\n",
       "      <th>3662</th>\n",
       "      <td>649</td>\n",
       "      <td>3589</td>\n",
       "      <td>0</td>\n",
       "      <td>6/13/2018</td>\n",
       "      <td>6</td>\n",
       "      <td>22</td>\n",
       "      <td>24</td>\n",
       "      <td>31</td>\n",
       "      <td>32</td>\n",
       "      <td>34</td>\n",
       "      <td>16</td>\n",
       "    </tr>\n",
       "    <tr>\n",
       "      <th>3663</th>\n",
       "      <td>649</td>\n",
       "      <td>3590</td>\n",
       "      <td>0</td>\n",
       "      <td>6/16/2018</td>\n",
       "      <td>2</td>\n",
       "      <td>15</td>\n",
       "      <td>21</td>\n",
       "      <td>31</td>\n",
       "      <td>38</td>\n",
       "      <td>49</td>\n",
       "      <td>8</td>\n",
       "    </tr>\n",
       "    <tr>\n",
       "      <th>3664</th>\n",
       "      <td>649</td>\n",
       "      <td>3591</td>\n",
       "      <td>0</td>\n",
       "      <td>6/20/2018</td>\n",
       "      <td>14</td>\n",
       "      <td>24</td>\n",
       "      <td>31</td>\n",
       "      <td>35</td>\n",
       "      <td>37</td>\n",
       "      <td>48</td>\n",
       "      <td>17</td>\n",
       "    </tr>\n",
       "  </tbody>\n",
       "</table>\n",
       "</div>"
      ],
      "text/plain": [
       "      PRODUCT  DRAW NUMBER  SEQUENCE NUMBER  DRAW DATE  NUMBER DRAWN 1  \\\n",
       "3662      649         3589                0  6/13/2018               6   \n",
       "3663      649         3590                0  6/16/2018               2   \n",
       "3664      649         3591                0  6/20/2018              14   \n",
       "\n",
       "      NUMBER DRAWN 2  NUMBER DRAWN 3  NUMBER DRAWN 4  NUMBER DRAWN 5  \\\n",
       "3662              22              24              31              32   \n",
       "3663              15              21              31              38   \n",
       "3664              24              31              35              37   \n",
       "\n",
       "      NUMBER DRAWN 6  BONUS NUMBER  \n",
       "3662              34            16  \n",
       "3663              49             8  \n",
       "3664              48            17  "
      ]
     },
     "execution_count": 6,
     "metadata": {},
     "output_type": "execute_result"
    }
   ],
   "source": [
    "lottery_c.tail(3)"
   ]
  },
  {
   "cell_type": "markdown",
   "metadata": {},
   "source": [
    "## Function for Historical Data Check\n",
    "\n",
    "After we opened and explored the Canada lottery data set, we're going to write a function that will enable users to compare their ticket against the historical lottery data in Canada ad determin whether they would have ever won by now.\n",
    "\n",
    "The engineering team told us that we need to be aware of the following details:\n",
    "   + Inside the app, the user inputs six different numbers from 1 to 49.\n",
    "   + Under the hood, the six numbers will come as a Python list and serve as an input to our function.\n",
    "   + The engineering team wants us to write a function that prints:\n",
    "      + the number of times the combination selected occurred in the Canada data set; and\n",
    "      + the probability of winning the big prize in the next drawing with that combination.\n",
    "We'll now start working on writing this function. \n",
    "\n",
    "First, we need to write a function named extract_numbers() that takes as input a row of the lottery dataframe and returns a set containing all the six winning numbers.\n",
    "\n",
    "Second, we use extract_numbers() to extract all the winning numbers.\n",
    "\n",
    "Third, we will write another function to compare the Python list containing the user numbers against the pandas Series containing sets with the historical winning numbers.\n",
    "\n",
    "Now let's start to write the extract_numbers() function."
   ]
  },
  {
   "cell_type": "code",
   "execution_count": 7,
   "metadata": {
    "collapsed": false
   },
   "outputs": [
    {
     "data": {
      "text/plain": [
       "0    {3, 41, 11, 12, 43, 14}\n",
       "1    {33, 36, 37, 39, 8, 41}\n",
       "2     {1, 6, 39, 23, 24, 27}\n",
       "3     {3, 9, 10, 43, 13, 20}\n",
       "4    {34, 5, 14, 47, 21, 31}\n",
       "dtype: object"
      ]
     },
     "execution_count": 7,
     "metadata": {},
     "output_type": "execute_result"
    }
   ],
   "source": [
    "def extract_numbers(row):\n",
    "    number_drawn = row[4:10]\n",
    "    number_set = set(number_drawn)\n",
    "    return number_set\n",
    "winning_numbers = lottery_c.apply(extract_numbers, axis = 1)\n",
    "winning_numbers.head()"
   ]
  },
  {
   "cell_type": "markdown",
   "metadata": {},
   "source": [
    "Next, we will write the function to compare the list containing the user numbers with the historical winning numbers to calculate the occurence of the user number in history."
   ]
  },
  {
   "cell_type": "code",
   "execution_count": 8,
   "metadata": {
    "collapsed": true
   },
   "outputs": [],
   "source": [
    "def check_historical_occurence(user_number,winning_numbers):\n",
    "    user_number_set = set(user_number)\n",
    "    user_number_occurence = user_number_set == winning_numbers\n",
    "    user_number_occurence_summary = user_number_occurence.sum()\n",
    "    print(\"Your number won a big prize in the history for\", user_number_occurence_summary, \"times.\")   "
   ]
  },
  {
   "cell_type": "markdown",
   "metadata": {},
   "source": [
    "Let's test the functions with a few inputs."
   ]
  },
  {
   "cell_type": "code",
   "execution_count": 9,
   "metadata": {
    "collapsed": false
   },
   "outputs": [
    {
     "name": "stdout",
     "output_type": "stream",
     "text": [
      "Your number won a big prize in the history for 0 times.\n",
      "Your chance of winning the big prize for the numbers [18, 29, 31, 5, 45, 38] is: 0.0000072%\n"
     ]
    }
   ],
   "source": [
    "user_number = [18, 29, 31, 5, 45, 38]\n",
    "check_historical_occurence(user_number, winning_numbers)\n",
    "one_ticket_probability(user_number)"
   ]
  },
  {
   "cell_type": "code",
   "execution_count": 10,
   "metadata": {
    "collapsed": false
   },
   "outputs": [
    {
     "name": "stdout",
     "output_type": "stream",
     "text": [
      "Your number won a big prize in the history for 1 times.\n",
      "Your chance of winning the big prize for the numbers [3, 41, 11, 12, 43, 14] is: 0.0000072%\n"
     ]
    }
   ],
   "source": [
    "user_number = [3, 41, 11, 12, 43, 14]\n",
    "check_historical_occurence(user_number, winning_numbers)\n",
    "one_ticket_probability(user_number)"
   ]
  },
  {
   "cell_type": "markdown",
   "metadata": {},
   "source": [
    "## Multi-ticket Probability\n",
    "\n",
    "Lottery addicts usually play more than one ticket on a single drawing, thinking that this might increase their chances of winning significantly. Our purpose is to help them better estimate their chances of winning. In this step, we're going to write a function that will allow the users to calculate the chances of winning for any number of different tickets.\n",
    "\n",
    "We've talked with the engineering team and they gave us the following information:\n",
    "   + The user will input the number of different tickets they want to play (without inputting the specific combinations they intend to play).\n",
    "   + Our function will see an integer between 1 and 13,983,816 (the maximum number of different tickets).\n",
    "   + The function should print information about the probability of winning the big prize depending on the number of different tickets played.\n",
    "   \n",
    "\n",
    "This function we are working with now will take a input of ticket numbers the user likes to play, and return the probability of winning the big prize with the number of different tickets.\n",
    "\n",
    "Let's now start writing this function. "
   ]
  },
  {
   "cell_type": "code",
   "execution_count": 11,
   "metadata": {
    "collapsed": true
   },
   "outputs": [],
   "source": [
    "def multi_ticket_probability(x):\n",
    "    possible_outcome = combinations(49, 6)\n",
    "    result = (x/possible_outcome) *100\n",
    "    print(\"Your chance of winning the big prize with {} tickets is: {:.7f}%\".format(x, result))"
   ]
  },
  {
   "cell_type": "markdown",
   "metadata": {},
   "source": [
    "Now let's test the function we just wrote."
   ]
  },
  {
   "cell_type": "code",
   "execution_count": 12,
   "metadata": {
    "collapsed": false
   },
   "outputs": [
    {
     "name": "stdout",
     "output_type": "stream",
     "text": [
      "Your chance of winning the big prize with 1 tickets is: 0.0000072%\n",
      "Your chance of winning the big prize with 10 tickets is: 0.0000715%\n",
      "Your chance of winning the big prize with 100 tickets is: 0.0007151%\n",
      "Your chance of winning the big prize with 10000 tickets is: 0.0715112%\n",
      "Your chance of winning the big prize with 1000000 tickets is: 7.1511238%\n",
      "Your chance of winning the big prize with 6991908 tickets is: 50.0000000%\n",
      "Your chance of winning the big prize with 13983816 tickets is: 100.0000000%\n"
     ]
    }
   ],
   "source": [
    "tests = [1, 10, 100, 10000, 1000000, 6991908, 13983816]\n",
    "for i in tests:\n",
    "    multi_ticket_probability(i)"
   ]
  },
  {
   "cell_type": "markdown",
   "metadata": {},
   "source": [
    "## Less Winning Numbers\n",
    "\n",
    "Next, we're going to write one more function to allow the users to calculate probabilities for two, three, four, or five winning numbers.\n",
    "\n",
    "For extra context, in most 6/49 lotteries there are smaller prizes if a player's ticket match two, three, four, or five of the six numbers drawn. As a consequence, the users might be interested in knowing the probability of having two, three, four, or five winning numbers.\n",
    "\n",
    "These are the engineering details we'll need to be aware of:\n",
    "   + Inside the app, the user inputs:\n",
    "      + six different numbers from 1 to 49; and\n",
    "      + an integer between 2 and 5 that represents the number of winning numbers expected\n",
    "   + Our function prints information about the probability of having the inputted number of winning numbers.\n",
    "   \n",
    "For example, let's figure out how to calculate the probability for having five winning numbers. For the sake of example, let's say a player chose these six numbers on a ticket: (1, 2, 3, 4 ,5 ,6). Out of these six numbers, we can form six five-number combinations:\n",
    "   + (1, 2, 3, 4, 5)\n",
    "   + (1, 2, 3, 4, 6)\n",
    "   + (1, 2, 3, 5, 6)\n",
    "   + (1, 2, 4, 5, 6)\n",
    "   + (1, 3, 4, 5, 6)\n",
    "   + (2, 3, 4, 5, 6)\n",
    "\n",
    "We also can find the total number of five-number combinations with the previous function combinations(6, 5).\n",
    "\n",
    "For each one of the six five-number combinations above, there are 44 possible successful outcomes in a lottery drawing. \n",
    "\n",
    "Since there are six five-number combinations and each combination corresponds to 44 successful outcomes, we need to multiply 6 by 44 to find the total number of successful outcomes. \n",
    "\n",
    "Given there are 264 successful outcomes and there are 13,983,816 total possible outcomes, we can calculate the probability of having five winning numbers for a single lottery ticket.\n",
    "\n",
    "To calculate the probabilities, we tell the engineering team that the specific combination on the ticket is irrelevant behind the scenes, and we only need the integer between 2 and 5 representing the number of winning numbers expected.\n",
    "\n",
    "Now let's try to code the function."
   ]
  },
  {
   "cell_type": "code",
   "execution_count": 19,
   "metadata": {
    "collapsed": true
   },
   "outputs": [],
   "source": [
    "def proability_less_6(x):\n",
    "    num_outcomes = combinations(6, x) * combinations((49-x), (6-x))\n",
    "    result = (num_outcomes/combinations(49, 6)) * 100\n",
    "    simplified = round(combinations(49, 6)/num_outcomes)\n",
    "    print(\"Your chance of having {} winning numbers for a single lottery ticket is:\\n {:.7f}%\".format(x, result))\n",
    "    print(\"In other words, you have 1 in {:,} chances to win\".format(simplified))\n",
    "    print(\"--------------------------------------------------------\")"
   ]
  },
  {
   "cell_type": "markdown",
   "metadata": {},
   "source": [
    "Let's test our function with all possible inputs: 2, 3, 4 and 5."
   ]
  },
  {
   "cell_type": "code",
   "execution_count": 20,
   "metadata": {
    "collapsed": false
   },
   "outputs": [
    {
     "name": "stdout",
     "output_type": "stream",
     "text": [
      "Your chance of having 2 winning numbers for a single lottery ticket is:\n",
      " 19.1326531%\n",
      "In other words, you have 1 in 5 chances to win\n",
      "--------------------------------------------------------\n",
      "Your chance of having 3 winning numbers for a single lottery ticket is:\n",
      " 2.1710812%\n",
      "In other words, you have 1 in 46 chances to win\n",
      "--------------------------------------------------------\n",
      "Your chance of having 4 winning numbers for a single lottery ticket is:\n",
      " 0.1061942%\n",
      "In other words, you have 1 in 942 chances to win\n",
      "--------------------------------------------------------\n",
      "Your chance of having 5 winning numbers for a single lottery ticket is:\n",
      " 0.0018879%\n",
      "In other words, you have 1 in 52,969 chances to win\n",
      "--------------------------------------------------------\n"
     ]
    }
   ],
   "source": [
    "p_input = [2, 3, 4, 5]\n",
    "for x in p_input:\n",
    "    proability_less_6(x)"
   ]
  },
  {
   "cell_type": "markdown",
   "metadata": {},
   "source": [
    "## Conclusion & Future Steps\n",
    "\n",
    "In this project, we managed to write four main functions for our app to :\n",
    "\n",
    "   + calculate the probability of winning the big prize with a single ticket\n",
    "   + check whether a certain combination has occurred in the Canada lottery data set\n",
    "   + calculate the probability for any number of the tickets between 1 and 13,983,816\n",
    "   + calculate the probability of having two, three, four or five winning numbers.\n",
    "   \n",
    "Possible features for a second version of the app include:\n",
    "\n",
    "   + Making the outputs even easier to understand by adding fun analogies (for example, we can find probabilities for strange events and compare with the chances of winning in lottery; for instance, we can output something along the lines \"You are 100 times more likely to be the victim of a shark attack than winning the lottery\");\n",
    "   + Combining functions to output information on probability and historical occurrence at the same time."
   ]
  }
 ],
 "metadata": {
  "kernelspec": {
   "display_name": "Python 3",
   "language": "python",
   "name": "python3"
  },
  "language_info": {
   "codemirror_mode": {
    "name": "ipython",
    "version": 3
   },
   "file_extension": ".py",
   "mimetype": "text/x-python",
   "name": "python",
   "nbconvert_exporter": "python",
   "pygments_lexer": "ipython3",
   "version": "3.4.3"
  }
 },
 "nbformat": 4,
 "nbformat_minor": 2
}
